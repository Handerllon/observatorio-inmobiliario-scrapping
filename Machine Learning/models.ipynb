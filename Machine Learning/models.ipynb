{
 "cells": [
  {
   "cell_type": "code",
   "execution_count": 4,
   "metadata": {},
   "outputs": [],
   "source": [
    "import pandas as pd\n",
    "import seaborn as sns\n",
    "import matplotlib.pyplot as plt\n",
    "\n",
    "df_wo_ohe = pd.read_csv(\"tmp/ml_ready_2024-11-30.csv\")\n",
    "df_ohe = pd.read_csv(\"tmp/ml_ready_ohe_2024-11-30.csv\")"
   ]
  },
  {
   "cell_type": "code",
   "execution_count": 5,
   "metadata": {},
   "outputs": [],
   "source": [
    "from sklearn.model_selection import train_test_split\n",
    "y = df_wo_ohe.price\n",
    "X = df_wo_ohe.drop([\"price\"], axis=1)\n",
    "X_train, X_test, y_train, y_test = train_test_split(X, y, test_size = 0.3)"
   ]
  },
  {
   "cell_type": "code",
   "execution_count": 6,
   "metadata": {},
   "outputs": [
    {
     "name": "stdout",
     "output_type": "stream",
     "text": [
      "RMSE score is: 160966.0184325507\n",
      "Model score is: 0.435569508933183\n"
     ]
    },
    {
     "name": "stderr",
     "output_type": "stream",
     "text": [
      "/Users/manderson/Desktop/UADE/Observatorio Inmobiliario/observatorio-inmobiliario-scrapping/env/lib/python3.13/site-packages/sklearn/metrics/_regression.py:492: FutureWarning: 'squared' is deprecated in version 1.4 and will be removed in 1.6. To calculate the root mean squared error, use the function'root_mean_squared_error'.\n",
      "  warnings.warn(\n"
     ]
    }
   ],
   "source": [
    "from sklearn.ensemble import GradientBoostingRegressor\n",
    "from sklearn.metrics import mean_squared_error\n",
    "\n",
    "# Con resultados del CVGridSearch grande\n",
    "\n",
    "GBoost2 = GradientBoostingRegressor(n_estimators=1000, learning_rate=0.01,\n",
    "                                   max_depth=9, max_features='log2',\n",
    "                                   min_samples_leaf=2, min_samples_split=5,\n",
    "                                   loss='squared_error', random_state = 5, subsample=0.5)\n",
    "GBoost_model2 = GBoost2.fit(X_train, y_train)\n",
    "\n",
    "GBoost_pred2 = GBoost_model2.predict(X_test)\n",
    "print(\"RMSE score is: \" + str(mean_squared_error(y_test, GBoost_pred2, squared=False)))\n",
    "print(\"Model score is: \" + str(GBoost_model2.score(X_test, y_test)))"
   ]
  },
  {
   "cell_type": "code",
   "execution_count": 7,
   "metadata": {},
   "outputs": [
    {
     "data": {
      "text/plain": [
       "['models/model_wo_ohe_2024-12-01.joblib']"
      ]
     },
     "execution_count": 7,
     "metadata": {},
     "output_type": "execute_result"
    }
   ],
   "source": [
    "# Vamos a persistir el modelo que mejor nos dió\n",
    "\n",
    "import pickle\n",
    "from joblib import dump, load\n",
    "\n",
    "dump(GBoost_model2, 'models/model_wo_ohe_2024-12-01.joblib')"
   ]
  },
  {
   "cell_type": "code",
   "execution_count": 8,
   "metadata": {},
   "outputs": [],
   "source": [
    "from sklearn.model_selection import train_test_split\n",
    "y = df_ohe.price\n",
    "X = df_ohe.drop([\"price\"], axis=1)\n",
    "X_train, X_test, y_train, y_test = train_test_split(X, y, test_size = 0.3)"
   ]
  },
  {
   "cell_type": "code",
   "execution_count": 9,
   "metadata": {},
   "outputs": [
    {
     "name": "stdout",
     "output_type": "stream",
     "text": [
      "RMSE score is: 149077.62664018766\n",
      "Model score is: 0.4941911314059362\n"
     ]
    },
    {
     "name": "stderr",
     "output_type": "stream",
     "text": [
      "/Users/manderson/Desktop/UADE/Observatorio Inmobiliario/observatorio-inmobiliario-scrapping/env/lib/python3.13/site-packages/sklearn/metrics/_regression.py:492: FutureWarning: 'squared' is deprecated in version 1.4 and will be removed in 1.6. To calculate the root mean squared error, use the function'root_mean_squared_error'.\n",
      "  warnings.warn(\n"
     ]
    }
   ],
   "source": [
    "from sklearn.ensemble import GradientBoostingRegressor\n",
    "from sklearn.metrics import mean_squared_error\n",
    "\n",
    "# Con resultados del CVGridSearch grande\n",
    "\n",
    "GBoost2 = GradientBoostingRegressor(n_estimators=1000, learning_rate=0.01,\n",
    "                                   max_depth=9, max_features='log2',\n",
    "                                   min_samples_leaf=2, min_samples_split=5,\n",
    "                                   loss='squared_error', random_state = 5, subsample=0.5)\n",
    "GBoost_model2 = GBoost2.fit(X_train, y_train)\n",
    "\n",
    "GBoost_pred2 = GBoost_model2.predict(X_test)\n",
    "print(\"RMSE score is: \" + str(mean_squared_error(y_test, GBoost_pred2, squared=False)))\n",
    "print(\"Model score is: \" + str(GBoost_model2.score(X_test, y_test)))"
   ]
  },
  {
   "cell_type": "code",
   "execution_count": 10,
   "metadata": {},
   "outputs": [
    {
     "data": {
      "text/plain": [
       "['models/model_ohe_2024-12-01.joblib']"
      ]
     },
     "execution_count": 10,
     "metadata": {},
     "output_type": "execute_result"
    }
   ],
   "source": [
    "# Vamos a persistir el modelo que mejor nos dió\n",
    "\n",
    "import pickle\n",
    "from joblib import dump, load\n",
    "\n",
    "dump(GBoost_model2, 'models/model_ohe_2024-12-01.joblib')"
   ]
  }
 ],
 "metadata": {
  "kernelspec": {
   "display_name": "env",
   "language": "python",
   "name": "python3"
  },
  "language_info": {
   "codemirror_mode": {
    "name": "ipython",
    "version": 3
   },
   "file_extension": ".py",
   "mimetype": "text/x-python",
   "name": "python",
   "nbconvert_exporter": "python",
   "pygments_lexer": "ipython3",
   "version": "3.13.0"
  }
 },
 "nbformat": 4,
 "nbformat_minor": 2
}
