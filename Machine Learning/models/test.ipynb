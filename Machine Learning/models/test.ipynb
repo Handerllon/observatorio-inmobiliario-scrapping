{
 "cells": [
  {
   "cell_type": "code",
   "execution_count": 56,
   "metadata": {},
   "outputs": [],
   "source": [
    "import pandas as pd\n",
    "\n",
    "data = [\n",
    "    {\"url\": \"https://www.zonaprop.com.ar/propiedades/clasificado/alclapin-alquiler-departamento-mono-ambiente-divisible-54947860.html\", \"total_area\": 38, \"rooms\": 1, \"bedrooms\": 1, \"antiquity\": 5, \"neighborhood\": \"neighborhood_Villa Urquiza\"},\n",
    "    {\"url\": \"https://www.zonaprop.com.ar/propiedades/clasificado/alclapin-alquiler-departamento-villa-urquiza-pileta-54461270.html\", \"total_area\": 35, \"rooms\": 1, \"bedrooms\": 1, \"antiquity\": 0, \"neighborhood\": \"neighborhood_Villa Urquiza\"},\n",
    "    {\"url\": \"https://www.zonaprop.com.ar/propiedades/clasificado/alclapin-monoambiente-con-terraza-propia-alquiler-en-belgrano-54783068.html\", \"total_area\": 33, \"rooms\": 1, \"bedrooms\": 1, \"antiquity\": 0, \"neighborhood\": \"neighborhood_Belgrano\"},\n",
    "    {\"url\": \"https://www.zonaprop.com.ar/propiedades/clasificado/alclapin-av-libertador-y-jose-hernandez-53543562.html\", \"total_area\": 54, \"rooms\": 2, \"bedrooms\": 1, \"antiquity\": 16, \"neighborhood\": \"neighborhood_Belgrano\"},\n",
    "    {\"url\": \"https://www.zonaprop.com.ar/propiedades/clasificado/alclapin-departamento-amoblado-recoleta-54338944.html\", \"total_area\": 50, \"rooms\": 2, \"bedrooms\": 1, \"antiquity\": 20, \"neighborhood\": \"neighborhood_Recoleta\"},\n",
    "    {\"url\": \"https://www.zonaprop.com.ar/propiedades/clasificado/alclapin-2-ambientes-totalmente-equipado-54535642.html\", \"total_area\": 40, \"rooms\": 2, \"bedrooms\": 1, \"antiquity\": 20, \"neighborhood\": \"neighborhood_Recoleta\"},\n",
    "    {\"url\": \"https://www.zonaprop.com.ar/propiedades/clasificado/alclapin-olleros-4100-excelente-3-amb-hecho-a-nuevo-a-m-de-av-55015316.html\", \"total_area\": 73, \"rooms\": 3, \"bedrooms\": 2, \"antiquity\": 30, \"neighborhood\": \"neighborhood_Chacarita\"},\n",
    "    {\"url\": \"https://www.zonaprop.com.ar/propiedades/clasificado/alclapin-departamento-en-chacarita-54995704.html\", \"total_area\": 43, \"rooms\": 3, \"bedrooms\": 2, \"antiquity\": 34, \"neighborhood\": \"neighborhood_Chacarita\"},\n",
    "    {\"url\": \"https://www.zonaprop.com.ar/propiedades/clasificado/alclapin-departamento-con-cochera-en-belgrano!-55007612.html\", \"total_area\": 91, \"rooms\": 4, \"bedrooms\": 3, \"antiquity\": 45, \"neighborhood\": \"neighborhood_Belgrano\"},\n",
    "    {\"url\": \"https://www.zonaprop.com.ar/propiedades/clasificado/alclapin-alquiler-departamento-4-ambientes-c-dependencia-54839536.html\", \"total_area\": 152, \"rooms\": 4, \"bedrooms\": 3, \"antiquity\": 40, \"neighborhood\": \"neighborhood_Palermo\"},\n",
    "    {\"url\": \"https://www.argenprop.com/departamento-en-alquiler-en-recoleta-1-ambiente--16181043\", \"total_area\": 40, \"rooms\": 1, \"bedrooms\": 1, \"antiquity\": 0, \"neighborhood\": \"neighborhood_Recoleta\"},\n",
    "    {\"url\": \"https://www.argenprop.com/departamento-en-alquiler-en-recoleta-1-ambiente--16611112\", \"total_area\": 28, \"rooms\": 1, \"bedrooms\": 1, \"antiquity\": 0, \"neighborhood\": \"neighborhood_Recoleta\"},\n",
    "    {\"url\": \"https://www.argenprop.com/departamento-en-alquiler-en-recoleta-2-ambientes--16518416\", \"total_area\": 35, \"rooms\": 2, \"bedrooms\": 1, \"antiquity\": 40, \"neighborhood\": \"neighborhood_Recoleta\"},\n",
    "    {\"url\": \"https://www.argenprop.com/departamento-en-alquiler-en-recoleta-2-ambientes--15996594\", \"total_area\": 50, \"rooms\": 2, \"bedrooms\": 1, \"antiquity\": 15, \"neighborhood\": \"neighborhood_Recoleta\"},\n",
    "    {\"url\": \"https://www.argenprop.com/departamento-en-alquiler-en-belgrano-3-ambientes--12472615\", \"total_area\": 54, \"rooms\": 3, \"bedrooms\": 2, \"antiquity\": 40, \"neighborhood\": \"neighborhood_Belgrano\"},\n",
    "    {\"url\": \"https://www.argenprop.com/departamento-en-alquiler-en-belgrano-3-ambientes--16154330\", \"total_area\": 50, \"rooms\": 3, \"bedrooms\": 2, \"antiquity\": 40, \"neighborhood\": \"neighborhood_Belgrano\"},\n",
    "    {\"url\": \"https://www.argenprop.com/departamento-en-alquiler-en-belgrano-3-ambientes--16511758\", \"total_area\": 62, \"rooms\": 3, \"bedrooms\": 2, \"antiquity\": 55, \"neighborhood\": \"neighborhood_Belgrano\"},\n",
    "    {\"url\": \"https://www.argenprop.com/departamento-en-alquiler-en-belgrano-barrancas-4-ambientes--16445789\", \"total_area\": 155, \"rooms\": 4, \"bedrooms\": 3, \"antiquity\": 40, \"neighborhood\": \"neighborhood_Belgrano\"},\n",
    "    {\"url\": \"https://www.argenprop.com/departamento-en-alquiler-en-belgrano-r-4-ambientes--16454220\", \"total_area\": 73, \"rooms\": 4, \"bedrooms\": 3, \"antiquity\": 40, \"neighborhood\": \"neighborhood_Belgrano\"},\n",
    "    {\"url\": \"https://www.argenprop.com/departamento-en-alquiler-en-barrio-norte-2-ambientes--16451370\", \"total_area\": 57, \"rooms\": 2, \"bedrooms\": 1, \"antiquity\": 50, \"neighborhood\": \"neighborhood_Recoleta\"}\n",
    "]\n",
    "\n",
    "data_2 = [\n",
    "    {\"url\": \"https://www.zonaprop.com.ar/propiedades/clasificado/alclapin-alquiler-departamento-mono-ambiente-divisible-54947860.html\", \"total_area\": 38, \"rooms\": 1, \"bedrooms\": 1, \"antiquity\": 5, \"neighborhood\": \"neighborhood_Villa Urquiza\"},\n",
    "    {\"url\": \"https://www.zonaprop.com.ar/propiedades/clasificado/alclapin-alquiler-departamento-villa-urquiza-pileta-54461270.html\", \"total_area\": 35, \"rooms\": 1, \"bedrooms\": 1, \"antiquity\": 0, \"neighborhood\": \"neighborhood_Villa Urquiza\"},\n",
    "    {\"url\": \"https://www.zonaprop.com.ar/propiedades/clasificado/alclapin-monoambiente-con-terraza-propia-alquiler-en-belgrano-54783068.html\", \"total_area\": 33, \"rooms\": 1, \"bedrooms\": 1, \"antiquity\": 0, \"neighborhood\": \"neighborhood_Belgrano\"},\n",
    "    {\"url\": \"https://www.zonaprop.com.ar/propiedades/clasificado/alclapin-av-libertador-y-jose-hernandez-53543562.html\", \"total_area\": 54, \"rooms\": 2, \"bedrooms\": 1, \"antiquity\": 16, \"neighborhood\": \"neighborhood_Belgrano\"},\n",
    "    {\"url\": \"https://www.zonaprop.com.ar/propiedades/clasificado/alclapin-departamento-amoblado-recoleta-54338944.html\", \"total_area\": 50, \"rooms\": 2, \"bedrooms\": 1, \"antiquity\": 20, \"neighborhood\": \"neighborhood_Recoleta\"},\n",
    "    {\"url\": \"https://www.zonaprop.com.ar/propiedades/clasificado/alclapin-2-ambientes-totalmente-equipado-54535642.html\", \"total_area\": 40, \"rooms\": 2, \"bedrooms\": 1, \"antiquity\": 20, \"neighborhood\": \"neighborhood_Recoleta\"},\n",
    "    {\"url\": \"https://www.zonaprop.com.ar/propiedades/clasificado/alclapin-olleros-4100-excelente-3-amb-hecho-a-nuevo-a-m-de-av-55015316.html\", \"total_area\": 73, \"rooms\": 3, \"bedrooms\": 2, \"antiquity\": 30, \"neighborhood\": \"neighborhood_Chacarita\"},\n",
    "    {\"url\": \"https://www.zonaprop.com.ar/propiedades/clasificado/alclapin-departamento-en-chacarita-54995704.html\", \"total_area\": 43, \"rooms\": 3, \"bedrooms\": 2, \"antiquity\": 34, \"neighborhood\": \"neighborhood_Chacarita\"},\n",
    "    {\"url\": \"https://www.zonaprop.com.ar/propiedades/clasificado/alclapin-departamento-con-cochera-en-belgrano!-55007612.html\", \"total_area\": 91, \"rooms\": 4, \"bedrooms\": 3, \"antiquity\": 45, \"neighborhood\": \"neighborhood_Belgrano\"},\n",
    "    {\"url\": \"https://www.zonaprop.com.ar/propiedades/clasificado/alclapin-alquiler-departamento-4-ambientes-c-dependencia-54839536.html\", \"total_area\": 152, \"rooms\": 4, \"bedrooms\": 3, \"antiquity\": 40, \"neighborhood\": \"neighborhood_Palermo\"},\n",
    "    {\"url\": \"https://www.argenprop.com/departamento-en-alquiler-en-recoleta-1-ambiente--16181043\", \"total_area\": 40, \"rooms\": 1, \"bedrooms\": 1, \"antiquity\": 0, \"neighborhood\": \"neighborhood_Recoleta\"},\n",
    "    {\"url\": \"https://www.argenprop.com/departamento-en-alquiler-en-recoleta-1-ambiente--16611112\", \"total_area\": 28, \"rooms\": 1, \"bedrooms\": 1, \"antiquity\": 0, \"neighborhood\": \"neighborhood_Recoleta\"},\n",
    "    {\"url\": \"https://www.argenprop.com/departamento-en-alquiler-en-recoleta-2-ambientes--16518416\", \"total_area\": 35, \"rooms\": 2, \"bedrooms\": 1, \"antiquity\": 40, \"neighborhood\": \"neighborhood_Recoleta\"},\n",
    "    {\"url\": \"https://www.argenprop.com/departamento-en-alquiler-en-recoleta-2-ambientes--15996594\", \"total_area\": 50, \"rooms\": 2, \"bedrooms\": 1, \"antiquity\": 15, \"neighborhood\": \"neighborhood_Recoleta\"},\n",
    "    {\"url\": \"https://www.argenprop.com/departamento-en-alquiler-en-belgrano-3-ambientes--12472615\", \"total_area\": 54, \"rooms\": 3, \"bedrooms\": 2, \"antiquity\": 40, \"neighborhood\": \"neighborhood_Belgrano\"},\n",
    "    {\"url\": \"https://www.argenprop.com/departamento-en-alquiler-en-belgrano-3-ambientes--16154330\", \"total_area\": 50, \"rooms\": 3, \"bedrooms\": 2, \"antiquity\": 40, \"neighborhood\": \"neighborhood_Belgrano\"},\n",
    "    {\"url\": \"https://www.argenprop.com/departamento-en-alquiler-en-belgrano-3-ambientes--16511758\", \"total_area\": 62, \"rooms\": 3, \"bedrooms\": 2, \"antiquity\": 55, \"neighborhood\": \"neighborhood_Belgrano\"},\n",
    "    {\"url\": \"https://www.argenprop.com/departamento-en-alquiler-en-belgrano-barrancas-4-ambientes--16445789\", \"total_area\": 155, \"rooms\": 4, \"bedrooms\": 3, \"antiquity\": 40, \"neighborhood\": \"neighborhood_Belgrano\"},\n",
    "    {\"url\": \"https://www.argenprop.com/departamento-en-alquiler-en-belgrano-r-4-ambientes--16454220\", \"total_area\": 73, \"rooms\": 4, \"bedrooms\": 3, \"antiquity\": 40, \"neighborhood\": \"neighborhood_Belgrano\"},\n",
    "    {\"url\": \"https://www.argenprop.com/departamento-en-alquiler-en-barrio-norte-2-ambientes--16451370\", \"total_area\": 57, \"rooms\": 2, \"bedrooms\": 1, \"antiquity\": 50, \"neighborhood\": \"neighborhood_Recoleta\"}\n",
    "]"
   ]
  },
  {
   "cell_type": "code",
   "execution_count": 57,
   "metadata": {},
   "outputs": [],
   "source": [
    "from joblib import dump, load\n",
    "\n",
    "model_wo_ohe = load('model_wo_ohe_2024-12-04.joblib')\n",
    "model_ohe = load('model_ohe_2024-12-04.joblib')"
   ]
  },
  {
   "cell_type": "code",
   "execution_count": 58,
   "metadata": {},
   "outputs": [],
   "source": [
    "# Veamos las columnas necesarias para el modelo que tiene ohe\n",
    "df_ohe = pd.read_csv(\"../tmp/ml_ready_ohe_2024-11-30.csv\")\n",
    "ohe_colums = df_ohe.columns.tolist()\n",
    "\n",
    "data_ohe = data.copy()\n",
    "for d in data_ohe:\n",
    "    for col in ohe_colums:\n",
    "        if col not in d.keys():\n",
    "            d[col] = 0\n",
    "    d[d[\"neighborhood\"]] = 1\n",
    "    d.pop(\"url\")\n",
    "    d.pop(\"neighborhood\")\n",
    "    d.pop(\"garages\")\n",
    "    d.pop(\"bathrooms\")\n",
    "    d.pop(\"price\")"
   ]
  },
  {
   "cell_type": "code",
   "execution_count": 59,
   "metadata": {},
   "outputs": [],
   "source": [
    "df_ohe = pd.DataFrame(data_ohe)\n",
    "to_remove = [\"garages\", \"bathrooms\", \"price\"]\n",
    "df_ohe = df_ohe[[col for col in ohe_colums if col not in to_remove]]\n",
    "#data_ohe_final = df_test.to_dict(orient=\"records\")"
   ]
  },
  {
   "cell_type": "code",
   "execution_count": 60,
   "metadata": {},
   "outputs": [],
   "source": [
    "data_wo_ohe = data_2.copy()\n",
    "for d in data_wo_ohe:\n",
    "    d.pop(\"url\")\n",
    "    d.pop(\"neighborhood\")"
   ]
  },
  {
   "cell_type": "code",
   "execution_count": 61,
   "metadata": {},
   "outputs": [],
   "source": [
    "df_wo_ohe = pd.DataFrame(data_wo_ohe)\n",
    "order = [\"antiquity\",\"bedrooms\",\"rooms\",\"total_area\"]\n",
    "df_wo_ohe = df_wo_ohe[order]"
   ]
  },
  {
   "cell_type": "code",
   "execution_count": 62,
   "metadata": {},
   "outputs": [
    {
     "name": "stdout",
     "output_type": "stream",
     "text": [
      "434812.4725780586\n",
      "436319.7495134357\n",
      "538864.8478323753\n",
      "698147.3873031653\n",
      "586156.825105385\n",
      "525094.5989305757\n",
      "698600.8835116688\n",
      "601603.5833348209\n",
      "852240.0806728742\n",
      "924231.1458558629\n",
      "509645.07112312265\n",
      "409631.48470114986\n",
      "474866.049338963\n",
      "575377.8953431968\n",
      "705798.7899033856\n",
      "685764.492539679\n",
      "763572.2059709714\n",
      "841678.3924795628\n",
      "851380.430393524\n",
      "675188.3435660998\n"
     ]
    }
   ],
   "source": [
    "pred_ohe = model_ohe.predict(pd.DataFrame(df_ohe))\n",
    "for pred in pred_ohe:\n",
    "    print(pred)"
   ]
  },
  {
   "cell_type": "code",
   "execution_count": 63,
   "metadata": {},
   "outputs": [
    {
     "name": "stdout",
     "output_type": "stream",
     "text": [
      "392340.43415509723\n",
      "414336.81917506875\n",
      "422389.85485984583\n",
      "585933.9468819059\n",
      "740523.662435709\n",
      "490559.93463566835\n",
      "703501.3263643085\n",
      "567707.8979180222\n",
      "860386.9166792395\n",
      "1055647.1517540263\n",
      "475009.1756620967\n",
      "450335.54357809224\n",
      "472223.68207969033\n",
      "506425.9072517284\n",
      "669264.5132236894\n",
      "637179.9449264605\n",
      "699628.67929316\n",
      "1055647.1517540263\n",
      "800882.9863092519\n",
      "617749.1952716844\n"
     ]
    }
   ],
   "source": [
    "pred_wo_ohe = model_wo_ohe.predict(pd.DataFrame(df_wo_ohe))\n",
    "for pred in pred_wo_ohe:\n",
    "    print(pred)"
   ]
  }
 ],
 "metadata": {
  "kernelspec": {
   "display_name": "env",
   "language": "python",
   "name": "python3"
  },
  "language_info": {
   "codemirror_mode": {
    "name": "ipython",
    "version": 3
   },
   "file_extension": ".py",
   "mimetype": "text/x-python",
   "name": "python",
   "nbconvert_exporter": "python",
   "pygments_lexer": "ipython3",
   "version": "3.13.0"
  }
 },
 "nbformat": 4,
 "nbformat_minor": 2
}
